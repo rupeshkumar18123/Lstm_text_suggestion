{
  "nbformat": 4,
  "nbformat_minor": 0,
  "metadata": {
    "colab": {
      "provenance": []
    },
    "kernelspec": {
      "name": "python3",
      "display_name": "Python 3"
    },
    "language_info": {
      "name": "python"
    }
  },
  "cells": [
    {
      "cell_type": "code",
      "execution_count": 4,
      "metadata": {
        "id": "C7mDIXBaiyod"
      },
      "outputs": [],
      "source": [
        "faqs = \"\"\"\n",
        "Marwadi University (MU)[1] is a private university[2] located in Rajkot, Gujarat, India. It was established on 9 May 2016 by the Marwadi Education Foundation through The Gujarat Private Universities (Amendment) Act, 2016.[3] As of 2017, it offers 54 different courses.[4] It is graded A+ by NAAC.[5]\n",
        "\n",
        "The university operates under the division of Marwadi Education Foundation's Group of Institutions (MEFGI). MEFGI commenced its operations in the year 2008. It was established as a primary unit of Marwadi Education Foundation under the Bombay Public Trust Act 1950. Marwadi University is aided by the Marwadi Shares and Finance Limited, a stock broking company in India and Chandarana Intermediaries Brokers Pvt. Ltd. (CIBPL), a firm dealing in technical and arbitrage trading.[6]\n",
        "\n",
        "Campus\n",
        "The campus is located on 52 acres of land, having a distance of nearly 40 minutes from railway and airports. The university comprises eight multi-storey buildings.[7] Laboratories, research facilities, student clubs, sports club and college cafeteria are available.[8]\n",
        "\n",
        "There are two libraries with RFID technologies, 60+ computer systems, 50000+ books.[9] The campus also includes banking and ATM facilities.[10] Around 70+ buses function every day at regular intervals for students and staff.[11] There are hostel rooms with internet facilities, laundry, dance rooms, libraries etc. and capacity to occupy over 2000 students.[12]\n",
        "\n",
        "Controversies\n",
        "Marwadi University has been involved in several controversies:\n",
        "\n",
        "Ragging Incident (October 2022)\n",
        "In October 2022, a 19-year-old BBA student alleged that he was sodomized by five fellow students in the university hostel. The accused reportedly filmed a video of the victim bathing and used it to blackmail him, pressuring him to harm himself. The university took immediate action by involving the anti-ragging committee and initiating the process to expel the accused students.[13][14]\n",
        "\n",
        "Hostel Video Scandal\n",
        "An engineering student from Andhra Pradesh was secretly filmed by her roommate while bathing, and the video was circulated among others. This incident raised concerns about student safety and privacy within the university's hostels.[15]\n",
        "\n",
        "Marijuana Cultivation on Campus\n",
        "Authorities discovered marijuana plants being cultivated near the boys' hostel within the university campus. This incident brought the university under scrutiny regarding campus security and regulatory enforcement.[16][17]\n",
        "\n",
        "Physical Altercation\n",
        "A physical altercation between two female students was caught on video and widely shared online. The incident sparked discussions about student behavior and discipline on campus.[18]\n",
        "\n",
        "Academics\n",
        "Academic programmes\n",
        "Marwadi University provides Undergraduate, Postgraduate, Diploma and Doctoral degrees. The university offers all these degrees in different faculties like Engineering, Science, Management, Computer Applications, Commerce, Law, Pharmacy, Agriculture and Physiotherapy.[19]\n",
        "\n",
        "Ranking\n",
        "Faculty of Law, Marwadi University, has been listed as one of the top law schools in India in Forbes India's Legal Powerlist 2020.[20]\n",
        "\n",
        "Param Shavak\n",
        "For enhancement of educational infrastructure of the country, Marwadi University has been granted with supercomputer 'Param Shavak' by Gujarat Council on Science and Technology (GUJCOST), Gujarat Government. Param Shavak supercomputing system will aid high-end computations and research work in AI, CE/IT, ICT, ML fields.[21]\n",
        "\n",
        "Organisation and administration\n",
        "Faculties\n",
        "Faculty of Engineering\n",
        "The faculty offers undergraduate, postgraduate, and diploma degrees.\n",
        "\n",
        "The undergraduate programmes offered are Bachelors in Computer Engineering, Information Technology, Electrical Engineering, Automobile Engineering, Chemical Engineering, Civil Engineering, Mechanical Engineering, Computer Engineering (Big Data & Analytics), Information and Communication Technology, and Computer Engineering (Artificial Intelligence).[22]\n",
        "\n",
        "The postgraduate programmes offered are Masters in Chemical Engineering, Cyber Security, Environmental Engineering, Computer Engineering, Geotechnical Engineering, Electric Vehicle, CAD/CAM Engineering, Communication System Engineering, Structural Engineering, Thermal Engineering, Transportation Engineering and VLSI.[23]\n",
        "\n",
        "The diploma courses offered are Diploma in Computer Engineering, Mechanical Engineering, Chemical Engineering, Electrical Engineering, Civil Engineering, Automobile Engineering and Information and Communication Technology.[24]\n",
        "\n",
        "Faculty of Science\n",
        "The faculty offers undergraduate and postgraduate degrees.\n",
        "\n",
        "The undergraduate programmes offered are Bachelor of Science (B.Sc.) in Chemistry, Microbiology, Physics, Mathematics and Agriculture.[25]\n",
        "\n",
        "The postgraduate programmes offered are in Master of Science (M.Sc.) in Chemistry Microbiology, Mathematics, Bio-Technology, Physics and Environmental Science.[26]\n",
        "\n",
        "Faculty of Architecture (Discontinued)\n",
        "The faculty provides Bachelor of Architecture, a 5-year undergraduate programme, which focuses on educating students to develop innovative ideas and skills in the architectural discipline.[27]\n",
        "\n",
        "Faculty of Management Studies\n",
        "The faculty offers undergraduate and postgraduate degrees in business management.\n",
        "\n",
        "The undergraduate programmes offered are Bachelor of Business Administration, Bachelor of Business Administration (Honors) and Bachelor of Business Administration (Financial Markets).[28]\n",
        "\n",
        "The postgraduate programmes offered are Master of Business Administration, Master of Business Administration in Business Analytics and Master of Business Administration in Executive Program.[29]\n",
        "\n",
        "Faculty of Computer Applications\n",
        "The undergraduate programme offered is Bachelor of Computer Applications.[30] The postgraduate programme offered is Master of Computer Application.[31]\n",
        "\n",
        "Faculty of Commerce\n",
        "The faculty offers undergraduate programmes in Bachelor of Commerce and Bachelor of Commerce (Honors).[32]\n",
        "\n",
        "Faculty of Law\n",
        "The faculty of law offers undergraduate degrees and postgraduate degrees. The undergraduate programmes offered are BA LLB and B.Com. LLB.[33] The postgraduate programme offered is LLM.[34]\n",
        "\n",
        "Faculty of Pharmacy\n",
        "The faculty offers a 4-year undergraduate program, Bachelor of Pharmacy and two years Masters of Pharmacy, which trains students with in-depth knowledge in pharmaceutical sciences.[35]\n",
        "\n",
        "Faculty of Physiotherapy\n",
        "The faculty offers a 3-year undergraduate programme, Bachelor of Physiotherapy.[36]\n",
        "\n",
        "Faculty of Computer Science\n",
        "The faculty offers a postgraduate programme in Master of Computer Science in Cyber Security & law.[37]\n",
        "\n",
        "Centre\n",
        "Entrepreneurship Development Cell\n",
        "The university aims to offer youth help to set up their own businesses. To aid this initiative, Marwadi University has developed the Entrepreneurship Development Cell, which has implemented various university-based policies on the campus, such as: - Student Startup and Innovation Policy of Government of Gujarat - New Generation Innovation And Entrepreneurship Development Centre (NewGen-IEDC) The cell provides support services to set up businesses by providing them pre-incubation support, guidance for the subsidy, preparation of project reports, registrations, management consultancy and more.[38]\n",
        "\n",
        "Intellectual Property Rights Cell\n",
        "To create awareness about intellectual property rights, the university conducts various workshops, seminars, and training courses on IPR.[39]\n",
        "\n",
        "Innovation and Incubation Research (MUIIR) Center\n",
        "Marwadi University Innovation and Incubation Research (MUIIR) Centre inks strategic MOUs to assist entrepreneurs who are focused on Energy Conservation, AI and Big Data analytics, Sustainable Development and Industry 4.0. 32+ start-ups from engineering, Paramedical, Management and Science are well-supported, and the amount of 50 lakhs + has been raised with the help of MUIIR.[40]\n",
        "\n",
        "Student life\n",
        "Clubs\n",
        "Students clubs at Marwadi University include Aero modeling and Robotics Club, Fitness Club, Team-building Club, Green Club, Computer-Aided Manufacturing Club, Cultural Club, Marketing Club, Finance Club, HR Club, Music Club etc.[41]\n",
        "\"\"\""
      ]
    },
    {
      "cell_type": "code",
      "source": [
        "import tensorflow as tf\n",
        "import numpy as np\n",
        "from tensorflow.keras.preprocessing.text import Tokenizer"
      ],
      "metadata": {
        "id": "16gXaj-dks39"
      },
      "execution_count": 5,
      "outputs": []
    },
    {
      "cell_type": "code",
      "source": [
        "tokenizer = Tokenizer()"
      ],
      "metadata": {
        "id": "xnxM5hdRlgqo"
      },
      "execution_count": 6,
      "outputs": []
    },
    {
      "cell_type": "code",
      "source": [
        "tokenizer.fit_on_texts([faqs])"
      ],
      "metadata": {
        "id": "whziUN66lld1"
      },
      "execution_count": 7,
      "outputs": []
    },
    {
      "cell_type": "code",
      "source": [
        "len(tokenizer.word_index)"
      ],
      "metadata": {
        "colab": {
          "base_uri": "https://localhost:8080/"
        },
        "id": "6wZgG4mhlyAg",
        "outputId": "66dc4128-7b70-4860-df04-d04d0ae30b1b"
      },
      "execution_count": 8,
      "outputs": [
        {
          "output_type": "execute_result",
          "data": {
            "text/plain": [
              "476"
            ]
          },
          "metadata": {},
          "execution_count": 8
        }
      ]
    },
    {
      "cell_type": "code",
      "source": [
        "input_sequence =[]\n",
        "for sentence in faqs.split('\\n'):\n",
        "    tokenized_sentence = tokenizer.texts_to_sequences([sentence])[0]\n",
        "    # print(tokenized_sentence) # Commenting out this print statement as it's not needed\n",
        "\n",
        "    for i in range(1,len(tokenized_sentence)):\n",
        "        n_gram_sequence = tokenized_sentence[:i+1]\n",
        "        input_sequence.append(n_gram_sequence) # Append the n_gram_sequence to input_sequence"
      ],
      "metadata": {
        "id": "6qP5K0ThmEy2"
      },
      "execution_count": 9,
      "outputs": []
    },
    {
      "cell_type": "code",
      "source": [
        "#finding max len of the senctence\n",
        "max_length = max([len(x) for x in input_sequence])\n"
      ],
      "metadata": {
        "id": "lE2CaqQwoR3-"
      },
      "execution_count": 10,
      "outputs": []
    },
    {
      "cell_type": "code",
      "source": [
        "from tensorflow.keras.preprocessing.sequence import pad_sequences\n",
        "#add padding pre as all word are dependent\n",
        "padded_input_sequence = pad_sequences(input_sequence,maxlen=max_length,padding='pre')"
      ],
      "metadata": {
        "id": "Gm4NOC-YqTp1"
      },
      "execution_count": 11,
      "outputs": []
    },
    {
      "cell_type": "code",
      "source": [
        "print(padded_input_sequence)"
      ],
      "metadata": {
        "colab": {
          "base_uri": "https://localhost:8080/"
        },
        "id": "SnMV0MDQsPMZ",
        "outputId": "7a6a0ad5-e469-4e51-9dcf-23bff228a2d5"
      },
      "execution_count": 12,
      "outputs": [
        {
          "output_type": "stream",
          "name": "stdout",
          "text": [
            "[[  0   0   0 ...   0   9   6]\n",
            " [  0   0   0 ...   9   6 149]\n",
            " [  0   0   0 ...   6 149 150]\n",
            " ...\n",
            " [  0   0   0 ...  13 475  13]\n",
            " [  0   0   0 ... 475  13  96]\n",
            " [  0   0   0 ...  13  96 476]]\n"
          ]
        }
      ]
    },
    {
      "cell_type": "code",
      "source": [
        "X = padded_input_sequence[:,:-1]"
      ],
      "metadata": {
        "id": "tCAOfiOCscm-"
      },
      "execution_count": 13,
      "outputs": []
    },
    {
      "cell_type": "code",
      "source": [
        "y = padded_input_sequence[:,-1]"
      ],
      "metadata": {
        "id": "g2-DQBC-s_5q"
      },
      "execution_count": 14,
      "outputs": []
    },
    {
      "cell_type": "code",
      "source": [
        "X  #making it as input"
      ],
      "metadata": {
        "colab": {
          "base_uri": "https://localhost:8080/"
        },
        "id": "83yCNwqrtIpF",
        "outputId": "2a45d5e6-1aa2-4377-fb82-1fd009c5eaeb"
      },
      "execution_count": 15,
      "outputs": [
        {
          "output_type": "execute_result",
          "data": {
            "text/plain": [
              "array([[  0,   0,   0, ...,   0,   0,   9],\n",
              "       [  0,   0,   0, ...,   0,   9,   6],\n",
              "       [  0,   0,   0, ...,   9,   6, 149],\n",
              "       ...,\n",
              "       [  0,   0,   0, ..., 474,  13, 475],\n",
              "       [  0,   0,   0, ...,  13, 475,  13],\n",
              "       [  0,   0,   0, ..., 475,  13,  96]], dtype=int32)"
            ]
          },
          "metadata": {},
          "execution_count": 15
        }
      ]
    },
    {
      "cell_type": "code",
      "source": [
        "y   #making it as output"
      ],
      "metadata": {
        "colab": {
          "base_uri": "https://localhost:8080/"
        },
        "id": "LYr_NX4ftLTK",
        "outputId": "59851891-e632-472f-92a5-e7ea80d50021"
      },
      "execution_count": 16,
      "outputs": [
        {
          "output_type": "execute_result",
          "data": {
            "text/plain": [
              "array([  6, 149, 150, ...,  13,  96, 476], dtype=int32)"
            ]
          },
          "metadata": {},
          "execution_count": 16
        }
      ]
    },
    {
      "cell_type": "code",
      "source": [
        "X.shape"
      ],
      "metadata": {
        "colab": {
          "base_uri": "https://localhost:8080/"
        },
        "id": "iRmJ74gftM3l",
        "outputId": "a31f08c9-f341-43c4-c78b-ba0589f6dd2c"
      },
      "execution_count": 17,
      "outputs": [
        {
          "output_type": "execute_result",
          "data": {
            "text/plain": [
              "(1051, 83)"
            ]
          },
          "metadata": {},
          "execution_count": 17
        }
      ]
    },
    {
      "cell_type": "code",
      "source": [
        "from tensorflow.keras.utils import to_categorical\n",
        "y = to_categorical(y,num_classes = 1051)"
      ],
      "metadata": {
        "id": "_gFi3jSbth-1"
      },
      "execution_count": 18,
      "outputs": []
    },
    {
      "cell_type": "code",
      "source": [
        "from tensorflow.keras.models import Sequential\n",
        "from tensorflow.keras.layers import Embedding,LSTM,Dense"
      ],
      "metadata": {
        "id": "jnW4DZgLuuyk"
      },
      "execution_count": 19,
      "outputs": []
    },
    {
      "cell_type": "code",
      "source": [
        "model = Sequential()\n",
        "model.add(Embedding(1051, output_dim=100, input_length=max_length-1))\n",
        "model.add(LSTM(150))\n",
        "model.add(Dense(1051,activation='softmax'))"
      ],
      "metadata": {
        "colab": {
          "base_uri": "https://localhost:8080/"
        },
        "id": "F08zt5glvGv2",
        "outputId": "e42b2e63-cb4d-4ff4-fb54-5df2463afd36"
      },
      "execution_count": 20,
      "outputs": [
        {
          "output_type": "stream",
          "name": "stderr",
          "text": [
            "/usr/local/lib/python3.11/dist-packages/keras/src/layers/core/embedding.py:90: UserWarning: Argument `input_length` is deprecated. Just remove it.\n",
            "  warnings.warn(\n"
          ]
        }
      ]
    },
    {
      "cell_type": "code",
      "source": [
        "model.compile(optimizer='adam',loss='categorical_crossentropy',metrics=['accuracy'])"
      ],
      "metadata": {
        "id": "qUT-a6cUvgBg"
      },
      "execution_count": 21,
      "outputs": []
    },
    {
      "cell_type": "code",
      "source": [
        "model.summary()"
      ],
      "metadata": {
        "colab": {
          "base_uri": "https://localhost:8080/",
          "height": 225
        },
        "id": "UTefAaTwvshH",
        "outputId": "28c9982b-1bc4-4932-f790-de81018d1921"
      },
      "execution_count": 22,
      "outputs": [
        {
          "output_type": "display_data",
          "data": {
            "text/plain": [
              "\u001b[1mModel: \"sequential\"\u001b[0m\n"
            ],
            "text/html": [
              "<pre style=\"white-space:pre;overflow-x:auto;line-height:normal;font-family:Menlo,'DejaVu Sans Mono',consolas,'Courier New',monospace\"><span style=\"font-weight: bold\">Model: \"sequential\"</span>\n",
              "</pre>\n"
            ]
          },
          "metadata": {}
        },
        {
          "output_type": "display_data",
          "data": {
            "text/plain": [
              "┏━━━━━━━━━━━━━━━━━━━━━━━━━━━━━━━━━┳━━━━━━━━━━━━━━━━━━━━━━━━┳━━━━━━━━━━━━━━━┓\n",
              "┃\u001b[1m \u001b[0m\u001b[1mLayer (type)                   \u001b[0m\u001b[1m \u001b[0m┃\u001b[1m \u001b[0m\u001b[1mOutput Shape          \u001b[0m\u001b[1m \u001b[0m┃\u001b[1m \u001b[0m\u001b[1m      Param #\u001b[0m\u001b[1m \u001b[0m┃\n",
              "┡━━━━━━━━━━━━━━━━━━━━━━━━━━━━━━━━━╇━━━━━━━━━━━━━━━━━━━━━━━━╇━━━━━━━━━━━━━━━┩\n",
              "│ embedding (\u001b[38;5;33mEmbedding\u001b[0m)           │ ?                      │   \u001b[38;5;34m0\u001b[0m (unbuilt) │\n",
              "├─────────────────────────────────┼────────────────────────┼───────────────┤\n",
              "│ lstm (\u001b[38;5;33mLSTM\u001b[0m)                     │ ?                      │   \u001b[38;5;34m0\u001b[0m (unbuilt) │\n",
              "├─────────────────────────────────┼────────────────────────┼───────────────┤\n",
              "│ dense (\u001b[38;5;33mDense\u001b[0m)                   │ ?                      │   \u001b[38;5;34m0\u001b[0m (unbuilt) │\n",
              "└─────────────────────────────────┴────────────────────────┴───────────────┘\n"
            ],
            "text/html": [
              "<pre style=\"white-space:pre;overflow-x:auto;line-height:normal;font-family:Menlo,'DejaVu Sans Mono',consolas,'Courier New',monospace\">┏━━━━━━━━━━━━━━━━━━━━━━━━━━━━━━━━━┳━━━━━━━━━━━━━━━━━━━━━━━━┳━━━━━━━━━━━━━━━┓\n",
              "┃<span style=\"font-weight: bold\"> Layer (type)                    </span>┃<span style=\"font-weight: bold\"> Output Shape           </span>┃<span style=\"font-weight: bold\">       Param # </span>┃\n",
              "┡━━━━━━━━━━━━━━━━━━━━━━━━━━━━━━━━━╇━━━━━━━━━━━━━━━━━━━━━━━━╇━━━━━━━━━━━━━━━┩\n",
              "│ embedding (<span style=\"color: #0087ff; text-decoration-color: #0087ff\">Embedding</span>)           │ ?                      │   <span style=\"color: #00af00; text-decoration-color: #00af00\">0</span> (unbuilt) │\n",
              "├─────────────────────────────────┼────────────────────────┼───────────────┤\n",
              "│ lstm (<span style=\"color: #0087ff; text-decoration-color: #0087ff\">LSTM</span>)                     │ ?                      │   <span style=\"color: #00af00; text-decoration-color: #00af00\">0</span> (unbuilt) │\n",
              "├─────────────────────────────────┼────────────────────────┼───────────────┤\n",
              "│ dense (<span style=\"color: #0087ff; text-decoration-color: #0087ff\">Dense</span>)                   │ ?                      │   <span style=\"color: #00af00; text-decoration-color: #00af00\">0</span> (unbuilt) │\n",
              "└─────────────────────────────────┴────────────────────────┴───────────────┘\n",
              "</pre>\n"
            ]
          },
          "metadata": {}
        },
        {
          "output_type": "display_data",
          "data": {
            "text/plain": [
              "\u001b[1m Total params: \u001b[0m\u001b[38;5;34m0\u001b[0m (0.00 B)\n"
            ],
            "text/html": [
              "<pre style=\"white-space:pre;overflow-x:auto;line-height:normal;font-family:Menlo,'DejaVu Sans Mono',consolas,'Courier New',monospace\"><span style=\"font-weight: bold\"> Total params: </span><span style=\"color: #00af00; text-decoration-color: #00af00\">0</span> (0.00 B)\n",
              "</pre>\n"
            ]
          },
          "metadata": {}
        },
        {
          "output_type": "display_data",
          "data": {
            "text/plain": [
              "\u001b[1m Trainable params: \u001b[0m\u001b[38;5;34m0\u001b[0m (0.00 B)\n"
            ],
            "text/html": [
              "<pre style=\"white-space:pre;overflow-x:auto;line-height:normal;font-family:Menlo,'DejaVu Sans Mono',consolas,'Courier New',monospace\"><span style=\"font-weight: bold\"> Trainable params: </span><span style=\"color: #00af00; text-decoration-color: #00af00\">0</span> (0.00 B)\n",
              "</pre>\n"
            ]
          },
          "metadata": {}
        },
        {
          "output_type": "display_data",
          "data": {
            "text/plain": [
              "\u001b[1m Non-trainable params: \u001b[0m\u001b[38;5;34m0\u001b[0m (0.00 B)\n"
            ],
            "text/html": [
              "<pre style=\"white-space:pre;overflow-x:auto;line-height:normal;font-family:Menlo,'DejaVu Sans Mono',consolas,'Courier New',monospace\"><span style=\"font-weight: bold\"> Non-trainable params: </span><span style=\"color: #00af00; text-decoration-color: #00af00\">0</span> (0.00 B)\n",
              "</pre>\n"
            ]
          },
          "metadata": {}
        }
      ]
    },
    {
      "cell_type": "code",
      "source": [
        "model.fit(X,y, verbose=1, epochs=100 )\n"
      ],
      "metadata": {
        "colab": {
          "base_uri": "https://localhost:8080/"
        },
        "id": "I9aRViy-vuuf",
        "outputId": "076799a8-8f16-49bb-dfb4-c77a6a280200"
      },
      "execution_count": null,
      "outputs": [
        {
          "output_type": "stream",
          "name": "stdout",
          "text": [
            "Epoch 1/100\n",
            "\u001b[1m33/33\u001b[0m \u001b[32m━━━━━━━━━━━━━━━━━━━━\u001b[0m\u001b[37m\u001b[0m \u001b[1m7s\u001b[0m 217ms/step - accuracy: 0.0625 - loss: 5.3473\n",
            "Epoch 2/100\n",
            "\u001b[1m33/33\u001b[0m \u001b[32m━━━━━━━━━━━━━━━━━━━━\u001b[0m\u001b[37m\u001b[0m \u001b[1m10s\u001b[0m 208ms/step - accuracy: 0.0555 - loss: 5.1935\n",
            "Epoch 3/100\n",
            "\u001b[1m33/33\u001b[0m \u001b[32m━━━━━━━━━━━━━━━━━━━━\u001b[0m\u001b[37m\u001b[0m \u001b[1m5s\u001b[0m 160ms/step - accuracy: 0.0832 - loss: 5.0129\n",
            "Epoch 4/100\n",
            "\u001b[1m33/33\u001b[0m \u001b[32m━━━━━━━━━━━━━━━━━━━━\u001b[0m\u001b[37m\u001b[0m \u001b[1m12s\u001b[0m 216ms/step - accuracy: 0.0807 - loss: 4.9701\n",
            "Epoch 5/100\n",
            "\u001b[1m33/33\u001b[0m \u001b[32m━━━━━━━━━━━━━━━━━━━━\u001b[0m\u001b[37m\u001b[0m \u001b[1m10s\u001b[0m 214ms/step - accuracy: 0.1256 - loss: 4.7520\n",
            "Epoch 6/100\n",
            "\u001b[1m33/33\u001b[0m \u001b[32m━━━━━━━━━━━━━━━━━━━━\u001b[0m\u001b[37m\u001b[0m \u001b[1m6s\u001b[0m 173ms/step - accuracy: 0.1260 - loss: 4.5855\n",
            "Epoch 7/100\n",
            "\u001b[1m33/33\u001b[0m \u001b[32m━━━━━━━━━━━━━━━━━━━━\u001b[0m\u001b[37m\u001b[0m \u001b[1m7s\u001b[0m 222ms/step - accuracy: 0.1273 - loss: 4.4852\n",
            "Epoch 8/100\n",
            "\u001b[1m33/33\u001b[0m \u001b[32m━━━━━━━━━━━━━━━━━━━━\u001b[0m\u001b[37m\u001b[0m \u001b[1m6s\u001b[0m 179ms/step - accuracy: 0.1597 - loss: 4.3300\n",
            "Epoch 9/100\n",
            "\u001b[1m33/33\u001b[0m \u001b[32m━━━━━━━━━━━━━━━━━━━━\u001b[0m\u001b[37m\u001b[0m \u001b[1m11s\u001b[0m 194ms/step - accuracy: 0.1932 - loss: 4.1061\n",
            "Epoch 10/100\n",
            "\u001b[1m33/33\u001b[0m \u001b[32m━━━━━━━━━━━━━━━━━━━━\u001b[0m\u001b[37m\u001b[0m \u001b[1m5s\u001b[0m 162ms/step - accuracy: 0.2025 - loss: 4.0672\n",
            "Epoch 11/100\n",
            "\u001b[1m33/33\u001b[0m \u001b[32m━━━━━━━━━━━━━━━━━━━━\u001b[0m\u001b[37m\u001b[0m \u001b[1m11s\u001b[0m 172ms/step - accuracy: 0.2245 - loss: 3.8315\n",
            "Epoch 12/100\n",
            "\u001b[1m33/33\u001b[0m \u001b[32m━━━━━━━━━━━━━━━━━━━━\u001b[0m\u001b[37m\u001b[0m \u001b[1m7s\u001b[0m 207ms/step - accuracy: 0.2276 - loss: 3.7055\n",
            "Epoch 13/100\n",
            "\u001b[1m33/33\u001b[0m \u001b[32m━━━━━━━━━━━━━━━━━━━━\u001b[0m\u001b[37m\u001b[0m \u001b[1m10s\u001b[0m 188ms/step - accuracy: 0.2389 - loss: 3.6103\n",
            "Epoch 14/100\n",
            "\u001b[1m33/33\u001b[0m \u001b[32m━━━━━━━━━━━━━━━━━━━━\u001b[0m\u001b[37m\u001b[0m \u001b[1m10s\u001b[0m 169ms/step - accuracy: 0.2519 - loss: 3.5022\n",
            "Epoch 15/100\n",
            "\u001b[1m33/33\u001b[0m \u001b[32m━━━━━━━━━━━━━━━━━━━━\u001b[0m\u001b[37m\u001b[0m \u001b[1m10s\u001b[0m 169ms/step - accuracy: 0.2836 - loss: 3.2957\n",
            "Epoch 16/100\n",
            "\u001b[1m33/33\u001b[0m \u001b[32m━━━━━━━━━━━━━━━━━━━━\u001b[0m\u001b[37m\u001b[0m \u001b[1m10s\u001b[0m 167ms/step - accuracy: 0.3129 - loss: 3.1565\n",
            "Epoch 17/100\n",
            "\u001b[1m33/33\u001b[0m \u001b[32m━━━━━━━━━━━━━━━━━━━━\u001b[0m\u001b[37m\u001b[0m \u001b[1m6s\u001b[0m 178ms/step - accuracy: 0.3523 - loss: 2.9773\n",
            "Epoch 18/100\n",
            "\u001b[1m33/33\u001b[0m \u001b[32m━━━━━━━━━━━━━━━━━━━━\u001b[0m\u001b[37m\u001b[0m \u001b[1m10s\u001b[0m 167ms/step - accuracy: 0.3350 - loss: 2.9732\n",
            "Epoch 19/100\n",
            "\u001b[1m33/33\u001b[0m \u001b[32m━━━━━━━━━━━━━━━━━━━━\u001b[0m\u001b[37m\u001b[0m \u001b[1m7s\u001b[0m 216ms/step - accuracy: 0.3698 - loss: 2.8491\n",
            "Epoch 20/100\n",
            "\u001b[1m33/33\u001b[0m \u001b[32m━━━━━━━━━━━━━━━━━━━━\u001b[0m\u001b[37m\u001b[0m \u001b[1m5s\u001b[0m 164ms/step - accuracy: 0.4026 - loss: 2.6839\n",
            "Epoch 21/100\n",
            "\u001b[1m33/33\u001b[0m \u001b[32m━━━━━━━━━━━━━━━━━━━━\u001b[0m\u001b[37m\u001b[0m \u001b[1m7s\u001b[0m 222ms/step - accuracy: 0.4381 - loss: 2.6050\n",
            "Epoch 22/100\n",
            "\u001b[1m33/33\u001b[0m \u001b[32m━━━━━━━━━━━━━━━━━━━━\u001b[0m\u001b[37m\u001b[0m \u001b[1m6s\u001b[0m 172ms/step - accuracy: 0.5144 - loss: 2.4885\n",
            "Epoch 23/100\n",
            "\u001b[1m33/33\u001b[0m \u001b[32m━━━━━━━━━━━━━━━━━━━━\u001b[0m\u001b[37m\u001b[0m \u001b[1m10s\u001b[0m 167ms/step - accuracy: 0.5409 - loss: 2.3884\n",
            "Epoch 24/100\n",
            "\u001b[1m33/33\u001b[0m \u001b[32m━━━━━━━━━━━━━━━━━━━━\u001b[0m\u001b[37m\u001b[0m \u001b[1m11s\u001b[0m 195ms/step - accuracy: 0.5653 - loss: 2.2200\n",
            "Epoch 25/100\n",
            "\u001b[1m33/33\u001b[0m \u001b[32m━━━━━━━━━━━━━━━━━━━━\u001b[0m\u001b[37m\u001b[0m \u001b[1m11s\u001b[0m 219ms/step - accuracy: 0.5937 - loss: 2.1567\n",
            "Epoch 26/100\n",
            "\u001b[1m33/33\u001b[0m \u001b[32m━━━━━━━━━━━━━━━━━━━━\u001b[0m\u001b[37m\u001b[0m \u001b[1m9s\u001b[0m 168ms/step - accuracy: 0.6302 - loss: 1.9995\n",
            "Epoch 27/100\n",
            "\u001b[1m33/33\u001b[0m \u001b[32m━━━━━━━━━━━━━━━━━━━━\u001b[0m\u001b[37m\u001b[0m \u001b[1m10s\u001b[0m 165ms/step - accuracy: 0.6811 - loss: 1.8827\n",
            "Epoch 28/100\n",
            "\u001b[1m33/33\u001b[0m \u001b[32m━━━━━━━━━━━━━━━━━━━━\u001b[0m\u001b[37m\u001b[0m \u001b[1m10s\u001b[0m 168ms/step - accuracy: 0.7002 - loss: 1.8279\n",
            "Epoch 29/100\n",
            "\u001b[1m33/33\u001b[0m \u001b[32m━━━━━━━━━━━━━━━━━━━━\u001b[0m\u001b[37m\u001b[0m \u001b[1m7s\u001b[0m 224ms/step - accuracy: 0.7102 - loss: 1.7014\n",
            "Epoch 30/100\n",
            "\u001b[1m33/33\u001b[0m \u001b[32m━━━━━━━━━━━━━━━━━━━━\u001b[0m\u001b[37m\u001b[0m \u001b[1m8s\u001b[0m 164ms/step - accuracy: 0.7179 - loss: 1.6970\n",
            "Epoch 31/100\n",
            "\u001b[1m33/33\u001b[0m \u001b[32m━━━━━━━━━━━━━━━━━━━━\u001b[0m\u001b[37m\u001b[0m \u001b[1m10s\u001b[0m 165ms/step - accuracy: 0.7302 - loss: 1.5790\n",
            "Epoch 32/100\n",
            "\u001b[1m33/33\u001b[0m \u001b[32m━━━━━━━━━━━━━━━━━━━━\u001b[0m\u001b[37m\u001b[0m \u001b[1m10s\u001b[0m 167ms/step - accuracy: 0.7670 - loss: 1.4892\n",
            "Epoch 33/100\n",
            "\u001b[1m33/33\u001b[0m \u001b[32m━━━━━━━━━━━━━━━━━━━━\u001b[0m\u001b[37m\u001b[0m \u001b[1m11s\u001b[0m 183ms/step - accuracy: 0.7585 - loss: 1.4595\n",
            "Epoch 34/100\n",
            "\u001b[1m33/33\u001b[0m \u001b[32m━━━━━━━━━━━━━━━━━━━━\u001b[0m\u001b[37m\u001b[0m \u001b[1m6s\u001b[0m 194ms/step - accuracy: 0.7982 - loss: 1.3382\n",
            "Epoch 35/100\n",
            "\u001b[1m33/33\u001b[0m \u001b[32m━━━━━━━━━━━━━━━━━━━━\u001b[0m\u001b[37m\u001b[0m \u001b[1m7s\u001b[0m 208ms/step - accuracy: 0.8023 - loss: 1.2936\n",
            "Epoch 36/100\n",
            "\u001b[1m33/33\u001b[0m \u001b[32m━━━━━━━━━━━━━━━━━━━━\u001b[0m\u001b[37m\u001b[0m \u001b[1m10s\u001b[0m 213ms/step - accuracy: 0.8240 - loss: 1.1804\n",
            "Epoch 37/100\n",
            "\u001b[1m 9/33\u001b[0m \u001b[32m━━━━━\u001b[0m\u001b[37m━━━━━━━━━━━━━━━\u001b[0m \u001b[1m3s\u001b[0m 158ms/step - accuracy: 0.8403 - loss: 1.0430"
          ]
        }
      ]
    },
    {
      "cell_type": "code",
      "metadata": {
        "id": "fb401a9b"
      },
      "source": [
        "def generate_text(seed_text, next_words, model, max_length, tokenizer):\n",
        "    for _ in range(next_words):\n",
        "        token_list = tokenizer.texts_to_sequences([seed_text])[0]\n",
        "        token_list = pad_sequences([token_list], maxlen=max_length-1, padding='pre')\n",
        "        predicted_probabilities = model.predict(token_list, verbose=0)\n",
        "        predicted_word_index = np.argmax(predicted_probabilities)\n",
        "        output_word = \"\"\n",
        "        for word, index in tokenizer.word_index.items():\n",
        "            if index == predicted_word_index:\n",
        "                output_word = word\n",
        "                break\n",
        "        seed_text += \" \" + output_word\n",
        "    return seed_text\n",
        "\n",
        "# Example usage:\n",
        "seed_text = \"Marwadi University\"\n",
        "generated_text = generate_text(seed_text, 10, model, max_length, tokenizer)\n",
        "print(generated_text)"
      ],
      "execution_count": null,
      "outputs": []
    }
  ]
}